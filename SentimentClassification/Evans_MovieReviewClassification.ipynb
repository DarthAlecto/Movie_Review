{
 "cells": [
  {
   "cell_type": "code",
   "execution_count": null,
   "metadata": {},
   "outputs": [],
   "source": [
    "import pandas as pd\n",
    "import numpy as np"
   ]
  },
  {
   "cell_type": "code",
   "execution_count": null,
   "metadata": {},
   "outputs": [],
   "source": [
    "import pyprind\n",
    "import pandas as pd\n",
    "import os\n",
    "# change the 'basepath' to the directory of the\n",
    "# unzipped movie dataset\n",
    "basepath = 'aclImdb'\n",
    "labels = {'pos': 1, 'neg': 0}\n",
    "pbar = pyprind.ProgBar(50000)\n",
    "df = pd.DataFrame()\n",
    "for s in ('test', 'train'):\n",
    "    for l in ('pos', 'neg'):\n",
    "        path = os.path.join(basepath, s, l)\n",
    "        for file in sorted(os.listdir(path)):\n",
    "            with open(os.path.join(path, file),\n",
    "                'r', encoding='utf-8') as infile:\n",
    "            txt = infile.read()\n",
    "            df = df.append([[txt, labels[l]]],\n",
    "            ignore_index=True)\n",
    "        pbar.update()\n",
    "df.columns = ['review', 'sentiment']"
   ]
  },
  {
   "cell_type": "code",
   "execution_count": null,
   "metadata": {},
   "outputs": [],
   "source": [
    "np.random.seed(0)\n",
    "df = df.reindex(np.random.permutation(df.index))\n",
    "df.to_csv('movie_data.csv', index=False, encoding='utf-8')"
   ]
  },
  {
   "cell_type": "code",
   "execution_count": null,
   "metadata": {},
   "outputs": [],
   "source": [
    "df = pd.read_csv('movie_data.csv', encoding='utf-8')\n",
    "df.head(3)\n",
    "df.shape"
   ]
  },
  {
   "cell_type": "code",
   "execution_count": null,
   "metadata": {},
   "outputs": [],
   "source": [
    "import numpy as np\n",
    "from sklearn.feature_extraction.text import CountVectorizer\n",
    "count = CountVectorizer()\n",
    "docs = np.array(['The sun is shining',\n",
    "'The weather is sweet',\n",
    "'The sun is shining, the weather is sweet,'\n",
    "'and one and one is two'])\n",
    "bag = count.fit_transform(docs)"
   ]
  },
  {
   "cell_type": "code",
   "execution_count": null,
   "metadata": {},
   "outputs": [],
   "source": [
    "print(count.vocabulary_)\n",
    "{'and': 0,\n",
    "'two': 7,\n",
    "'shining': 3,\n",
    "'one': 2,\n",
    "'sun': 4,\n",
    "'weather': 8,\n",
    "'the': 6,\n",
    "'sweet': 5,\n",
    "'is': 1}"
   ]
  },
  {
   "cell_type": "code",
   "execution_count": null,
   "metadata": {},
   "outputs": [],
   "source": [
    "print(bag.toarray())\n",
    "[[0 1 0 1 1 0 1 0 0]\n",
    " [0 1 0 0 0 1 1 0 1]\n",
    " [2 3 2 1 1 1 2 1 1]]"
   ]
  },
  {
   "cell_type": "code",
   "execution_count": null,
   "metadata": {},
   "outputs": [],
   "source": [
    "from sklearn.feature_extraction.text import TfidfTransformer\n",
    "tfidf = TfidfTransformer(use_idf=True,\n",
    "norm='l2',\n",
    "smooth_idf=True)\n",
    "np.set_printoptions(precision=2)\n",
    "print(tfidf.fit_transform(count.fit_transform(docs))\n",
    " toarray())\n",
    "[[ 0. 0.43 0. 0.56 0.56 0. 0.43 0. 0. ]\n",
    " [ 0. 0.43 0. 0. 0. 0.56 0.43 0. 0.56]\n",
    " [ 0.5 0.45 0.5 0.19 0.19 0.19 0.3 0.25 0.19]]"
   ]
  },
  {
   "cell_type": "code",
   "execution_count": null,
   "metadata": {},
   "outputs": [],
   "source": [
    "import re\n",
    "def preprocessor(text):\n",
    "text = re.sub('<[^>]*>', '', text)\n",
    "emoticons = re.findall('(?::|;|=)(?:-)?(?:\\)|\\(|D|P)',\n",
    "text)\n",
    "text = (re.sub('[\\W]+', ' ', text.lower()) +\n",
    "' '.join(emoticons).replace('-', ''))\n",
    "return text"
   ]
  },
  {
   "cell_type": "code",
   "execution_count": null,
   "metadata": {},
   "outputs": [],
   "source": [
    "preprocessor(df.loc[0, 'review'][-50:])\n",
    "'is seven title brazil not available'\n",
    "preprocessor(\"</a>This :) is :( a test :-)!\")\n",
    "'this is a test :) :( :)'\n",
    "df['review'] = df['review'].apply(preprocessor)"
   ]
  },
  {
   "cell_type": "code",
   "execution_count": null,
   "metadata": {},
   "outputs": [],
   "source": [
    "def tokenizer(text):\n",
    "return text.split()\n",
    "tokenizer('runners like running and thus they run')\n",
    "['runners', 'like', 'running', 'and', 'thus', 'they', 'run']"
   ]
  },
  {
   "cell_type": "code",
   "execution_count": null,
   "metadata": {},
   "outputs": [],
   "source": [
    "from nltk.stem.porter import PorterStemmer\n",
    "porter = PorterStemmer()\n",
    "def tokenizer_porter(text):\n",
    "return [porter.stem(word) for word in text.split()]\n",
    "tokenizer_porter('runners like running and thus they run')\n",
    "['runner', 'like', 'run', 'and', 'thu', 'they', 'run']"
   ]
  },
  {
   "cell_type": "code",
   "execution_count": null,
   "metadata": {},
   "outputs": [],
   "source": [
    "import nltk\n",
    "nltk.download('stopwords')\n",
    "from nltk.corpus import stopwords\n",
    "stop = stopwords.words('english')\n",
    "[w for w in tokenizer_porter('a runner likes'\n",
    "' running and runs a lot')[-10:]\n",
    "if w not in stop]\n",
    "['runner', 'like', 'run', 'run', 'lot']"
   ]
  },
  {
   "cell_type": "code",
   "execution_count": null,
   "metadata": {},
   "outputs": [],
   "source": [
    "X_train = df.loc[:25000, 'review'].values\n",
    "y_train = df.loc[:25000, 'sentiment'].values\n",
    "X_test = df.loc[25000:, 'review'].values\n",
    "y_test = df.loc[25000:, 'sentiment'].values"
   ]
  },
  {
   "cell_type": "code",
   "execution_count": null,
   "metadata": {},
   "outputs": [],
   "source": [
    "from sklearn.model_selection import GridSearchCV\n",
    "from sklearn.pipeline import Pipeline\n",
    "from sklearn.linear_model import LogisticRegression\n",
    "from sklearn.feature_extraction.text import TfidfVectorizer\n",
    "tfidf = TfidfVectorizer(strip_accents=None,\n",
    "lowercase=False,\n",
    "preprocessor=None)\n",
    "param_grid = [{'vect__ngram_range': [(1,1)],\n",
    "'vect__stop_words': [stop, None],\n",
    "'vect__tokenizer': [tokenizer,\n",
    "tokenizer_porter],\n",
    "'clf__penalty': ['l1', 'l2'],\n",
    "'clf__C': [1.0, 10.0, 100.0]},\n",
    "{'vect__ngram_range': [(1,1)],\n",
    "'vect__stop_words': [stop, None],\n",
    "'vect__tokenizer': [tokenizer,\n",
    "tokenizer_porter],\n",
    "'vect__use_idf':[False],\n",
    "'vect__norm':[None],\n",
    "'clf__penalty': ['l1', 'l2'],\n",
    "'clf__C': [1.0, 10.0, 100.0]}\n",
    "]\n",
    "lr_tfidf = Pipeline([('vect', tfidf),\n",
    "('clf',\n",
    "LogisticRegression(random_state=0,\n",
    "solver='liblinear'))])\n",
    "gs_lr_tfidf = GridSearchCV(lr_tfidf, param_grid,\n",
    "scoring='accuracy',\n",
    "cv=5, verbose=2,\n",
    "n_jobs=1)\n",
    "gs_lr_tfidf.fit(X_train, y_train)"
   ]
  },
  {
   "cell_type": "code",
   "execution_count": null,
   "metadata": {},
   "outputs": [],
   "source": [
    "print('Best parameter set: %s ' % gs_lr_tfidf.best_params_)\n",
    "Best parameter set: {'clf__C': 10.0, 'vect__stop_words': None,\n",
    "'clf__penalty': 'l2', 'vect__tokenizer': <function tokenizer at\n",
    "0x7f6c704948c8>, 'vect__ngram_range': (1, 1)}"
   ]
  },
  {
   "cell_type": "code",
   "execution_count": null,
   "metadata": {},
   "outputs": [],
   "source": [
    "print('CV Accuracy: %.3f'\n",
    "% gs_lr_tfidf.best_score_)\n",
    "CV Accuracy: 0.897\n",
    "clf = gs_lr_tfidf.best_estimator_\n",
    "print('Test Accuracy: %.3f'\n",
    "% clf.score(X_test, y_test))"
   ]
  },
  {
   "cell_type": "code",
   "execution_count": null,
   "metadata": {},
   "outputs": [],
   "source": [
    "import numpy as np\n",
    "import re\n",
    "from nltk.corpus import stopwords\n",
    "stop = stopwords.words('english')\n",
    "def tokenizer(text):\n",
    "text = re.sub('<[^>]*>', '', text)\n",
    "emoticons = re.findall('(?::|;|=)(?:-)?(?:\\)|\\(|D|P)',\n",
    "text.lower())\n",
    "text = re.sub('[\\W]+', ' ', text.lower()) \\\n",
    "+ ' '.join(emoticons).replace('-', '')\n",
    "tokenized = [w for w in text.split() if w not in stop]\n",
    "return tokenized"
   ]
  },
  {
   "cell_type": "code",
   "execution_count": null,
   "metadata": {},
   "outputs": [],
   "source": [
    "def stream_docs(path):\n",
    "with open(path, 'r', encoding='utf-8') as csv:\n",
    "next(csv) # skip header\n",
    "for line in csv:\n",
    "text, label = line[:-3], int(line[-2])\n",
    "yield text, label\n",
    "next(stream_docs(path='movie_data.csv'))\n",
    "('\"In 1974, the teenager Martha Moxley ... ',1)"
   ]
  },
  {
   "cell_type": "code",
   "execution_count": null,
   "metadata": {},
   "outputs": [],
   "source": [
    "def get_minibatch(doc_stream, size):\n",
    "docs, y = [], []\n",
    "try:\n",
    "for _ in range(size):\n",
    "text, label = next(doc_stream)\n",
    "docs.append(text)\n",
    "y.append(label)\n",
    "except StopIteration:\n",
    "return None, None\n",
    "return docs, y"
   ]
  },
  {
   "cell_type": "code",
   "execution_count": null,
   "metadata": {},
   "outputs": [],
   "source": [
    "from sklearn.feature_extraction.text import HashingVectorizer\n",
    "from sklearn.linear_model import SGDClassifier\n",
    "vect = HashingVectorizer(decode_error='ignore',\n",
    "n_features=2**21,\n",
    "preprocessor=None,\n",
    "tokenizer=tokenizer)\n",
    "clf = SGDClassifier(loss='log', random_state=1)\n",
    "doc_stream = stream_docs(path='movie_data.csv')"
   ]
  },
  {
   "cell_type": "code",
   "execution_count": null,
   "metadata": {},
   "outputs": [],
   "source": [
    "import pyprind\n",
    "pbar = pyprind.ProgBar(45)\n",
    "classes = np.array([0, 1])\n",
    "for _ in range(45):\n",
    "X_train, y_train = get_minibatch(doc_stream, size=1000)\n",
    "if not X_train:\n",
    "break\n",
    "X_train = vect.transform(X_train)\n",
    "clf.partial_fit(X_train, y_train, classes=classes)\n",
    "pbar.update()"
   ]
  },
  {
   "cell_type": "code",
   "execution_count": null,
   "metadata": {},
   "outputs": [],
   "source": [
    "X_test, y_test = get_minibatch(doc_stream, size=5000)\n",
    "X_test = vect.transform(X_test)\n",
    "print('Accuracy: %.3f' % clf.score(X_test, y_test))\n",
    "clf = clf.partial_fit(X_test, y_test)"
   ]
  },
  {
   "cell_type": "code",
   "execution_count": null,
   "metadata": {},
   "outputs": [],
   "source": [
    "import pandas as pd\n",
    "df = pd.read_csv('movie_data.csv', encoding='utf-8')\n",
    "from sklearn.feature_extraction.text import CountVectorizer\n",
    "count = CountVectorizer(stop_words='english',\n",
    "max_df=.1,\n",
    "max_features=5000)\n",
    "X = count.fit_transform(df['review'].values)"
   ]
  },
  {
   "cell_type": "code",
   "execution_count": null,
   "metadata": {},
   "outputs": [],
   "source": [
    "from sklearn.decomposition import LatentDirichletAllocation\n",
    "lda = LatentDirichletAllocation(n_components=10,\n",
    "random_state=123,\n",
    "learning_method='batch')\n",
    "X_topics = lda.fit_transform(X)\n",
    "lda.components_.shape"
   ]
  },
  {
   "cell_type": "code",
   "execution_count": null,
   "metadata": {},
   "outputs": [],
   "source": [
    "n_top_words = 5\n",
    "feature_names = count.get_feature_names()\n",
    "for topic_idx, topic in enumerate(lda.components_):\n",
    "print(\"Topic %d:\" % (topic_idx + 1))\n",
    "print(\" \".join([feature_names[i]\n",
    "for i in topic.argsort()\\\n",
    "[:-n_top_words - 1:-1]]))"
   ]
  },
  {
   "cell_type": "code",
   "execution_count": null,
   "metadata": {},
   "outputs": [],
   "source": [
    "horror = X_topics[:, 5].argsort()[::-1]\n",
    "for iter_idx, movie_idx in enumerate(horror[:3]):\n",
    "print('\\nHorror movie #%d:' % (iter_idx + 1))\n",
    "print(df['review'][movie_idx][:300], '...')"
   ]
  },
  {
   "cell_type": "code",
   "execution_count": null,
   "metadata": {},
   "outputs": [],
   "source": [
    "import pickle\n",
    "import os\n",
    "dest = os.path.join('movieclassifier', 'pkl_objects')\n",
    "if not os.path.exists(dest):\n",
    "os.makedirs(dest)\n",
    "pickle.dump(stop,\n",
    "open(os.path.join(dest, 'stopwords.pkl'), 'wb'),\n",
    "protocol=4)\n",
    "pickle.dump(clf,\n",
    "open(os.path.join(dest, 'classifier.pkl'), 'wb'),\n",
    "protocol=4)"
   ]
  },
  {
   "cell_type": "code",
   "execution_count": null,
   "metadata": {},
   "outputs": [],
   "source": [
    "from sklearn.feature_extraction.text import HashingVectorizer\n",
    "import re\n",
    "import os\n",
    "import pickle\n",
    "cur_dir = os.path.dirname(__file__)\n",
    "stop = pickle.load(open(os.path.join(\n",
    " cur_dir, 'pkl_objects', 'stopwords.pkl'),\n",
    " 'rb'))\n",
    "def tokenizer(text):\n",
    " text = re.sub('<[^>]*>', '', text)\n",
    " emoticons = re.findall('(?::|;|=)(?:-)?(?:\\)|\\(|D|P)',\n",
    " text.lower())\n",
    " text = re.sub('[\\W]+', ' ', text.lower()) \\\n",
    " + ' '.join(emoticons).replace('-', '')\n",
    " tokenized = [w for w in text.split() if w not in stop]\n",
    " return tokenized\n",
    "\n",
    "vect = HashingVectorizer(decode_error='ignore',\n",
    " n_features=2**21,\n",
    " preprocessor=None,\n",
    " tokenizer=tokenizer)"
   ]
  },
  {
   "cell_type": "code",
   "execution_count": null,
   "metadata": {},
   "outputs": [],
   "source": [
    "import pickle\n",
    "import re\n",
    "import os\n",
    "from vectorizer import vect\n",
    "clf = pickle.load(open(os.path.join(\n",
    "'pkl_objects', 'classifier.pkl'),\n",
    "'rb'))\n",
    "import numpy as np\n",
    "label = {0:'negative', 1:'positive'}\n",
    "example = [\"I love this movie. It's amazing.\"]\n",
    "X = vect.transform(example)\n",
    "print('Prediction: %s\\nProbability: %.2f%%' %\\\n",
    "(label[clf.predict(X)[0]],\n",
    "np.max(clf.predict_proba(X))*100))"
   ]
  },
  {
   "cell_type": "code",
   "execution_count": null,
   "metadata": {},
   "outputs": [],
   "source": [
    "import sqlite3\n",
    "import os\n",
    "conn = sqlite3.connect('reviews.sqlite')\n",
    "c = conn.cursor()\n",
    "c.execute('DROP TABLE IF EXISTS review_db')\n",
    "c.execute('CREATE TABLE review_db'\\\n",
    "' (review TEXT, sentiment INTEGER, date TEXT)')\n",
    "example1 = 'I love this movie'\n",
    "c.execute(\"INSERT INTO review_db\"\\\n",
    "\" (review, sentiment, date) VALUES\"\\\n",
    "\" (?, ?, DATETIME('now'))\", (example1, 1))\n",
    "example2 = 'I disliked this movie'\n",
    "c.execute(\"INSERT INTO review_db\"\\\n",
    "\" (review, sentiment, date) VALUES\"\\\n",
    "\" (?, ?, DATETIME('now'))\", (example2, 0))\n",
    "conn.commit()\n",
    "conn.close()"
   ]
  },
  {
   "cell_type": "code",
   "execution_count": null,
   "metadata": {},
   "outputs": [],
   "source": [
    ">>> conn = sqlite3.connect('reviews.sqlite')\n",
    ">>> c = conn.cursor()\n",
    ">>> c.execute(\"SELECT * FROM review_db WHERE date\"\\\n",
    "... \" BETWEEN '2017-01-01 00:00:00' AND DATETIME('now')\")\n",
    ">>> results = c.fetchall()\n",
    ">>> conn.close()\n",
    ">>> print(results)"
   ]
  },
  {
   "cell_type": "code",
   "execution_count": null,
   "metadata": {},
   "outputs": [],
   "source": [
    "conda install flask\n",
    "# or: pip install flask\n",
    "1st_flask_app_1/\n",
    " app.py\n",
    " templates/\n",
    " first_app.html\n",
    "\n",
    "from flask import Flask, render_template\n",
    "app = Flask(__name__)\n",
    "@app.route('/')\n",
    "def index():\n",
    " return render_template('first_app.html')\n",
    "if __name__ == '__main__':\n",
    " app.run()"
   ]
  },
  {
   "cell_type": "code",
   "execution_count": null,
   "metadata": {},
   "outputs": [],
   "source": [
    "<!doctype html>\n",
    "<html>\n",
    " <head>\n",
    " <title>First app</title>\n",
    " </head>\n",
    " <body>\n",
    " <div>Hi, this is my first Flask web app!</div>\n",
    " </body>\n",
    "</html>"
   ]
  },
  {
   "cell_type": "code",
   "execution_count": null,
   "metadata": {},
   "outputs": [],
   "source": [
    "conda install wtforms\n",
    "# or pip install wtforms\n",
    "\n",
    "1st_flask_app_2/\n",
    " app.py\n",
    " static/\n",
    " style.css\n",
    " templates/\n",
    " _formhelpers.html\n",
    " first_app.html\n",
    " hello.html"
   ]
  },
  {
   "cell_type": "code",
   "execution_count": null,
   "metadata": {},
   "outputs": [],
   "source": [
    "from flask import Flask, render_template, request\n",
    "from wtforms import Form, TextAreaField, validators\n",
    "app = Flask(__name__)\n",
    "class HelloForm(Form):\n",
    " sayhello = TextAreaField('',[validators.DataRequired()])\n",
    "@app.route('/')\n",
    "def index():\n",
    " form = HelloForm(request.form)\n",
    " return render_template('first_app.html', form=form)\n",
    "@app.route('/hello', methods=['POST'])\n",
    "def hello():\n",
    " form = HelloForm(request.form)\n",
    " if request.method == 'POST' and form.validate():\n",
    " name = request.form['sayhello']\n",
    " return render_template('hello.html', name=name)\n",
    " return render_template('first_app.html', form=form)\n",
    "if __name__ == '__main__':\n",
    " app.run(debug=True)"
   ]
  },
  {
   "cell_type": "code",
   "execution_count": null,
   "metadata": {},
   "outputs": [],
   "source": [
    "{% macro render_field(field) %}\n",
    " <dt>{{ field.label }}\n",
    " <dd>{{ field(**kwargs)|safe }}\n",
    " {% if field.errors %}\n",
    " <ul class=errors>\n",
    " {% for error in field.errors %}\n",
    " <li>{{ error }}</li>\n",
    " {% endfor %}\n",
    " </ul>\n",
    " {% endif %}\n",
    " </dd>\n",
    " </dt>\n",
    "{% endmacro %}"
   ]
  },
  {
   "cell_type": "code",
   "execution_count": null,
   "metadata": {},
   "outputs": [],
   "source": [
    "body {\n",
    " font-size: 2em;\n",
    "}\n",
    "\n",
    "<!doctype html>\n",
    "<html>\n",
    " <head>\n",
    " <title>First app</title>\n",
    " <link rel=\"stylesheet\"\n",
    " href=\"{{ url_for('static', filename='style.css') }}\">\n",
    " </head>\n",
    " <body>\n",
    " {% from \"_formhelpers.html\" import render_field %}\n",
    " <div>What's your name?</div>\n",
    " <form method=post action=\"/hello\">\n",
    " <dl>\n",
    " {{ render_field(form.sayhello) }}\n",
    " </dl>\n",
    " <input type=submit value='Say Hello' name='submit_btn'>\n",
    " </form>\n",
    " </body>\n",
    "</html>"
   ]
  },
  {
   "cell_type": "code",
   "execution_count": null,
   "metadata": {},
   "outputs": [],
   "source": [
    "<!doctype html>\n",
    "<html>\n",
    " <head>\n",
    " <title>First app</title>\n",
    " <link rel=\"stylesheet\"\n",
    " href=\"{{ url_for('static', filename='style.css') }}\">\n",
    " </head>\n",
    " <body>\n",
    " <div>Hello {{ name }}</div>\n",
    " </body>\n",
    "</html>"
   ]
  },
  {
   "cell_type": "code",
   "execution_count": null,
   "metadata": {},
   "outputs": [],
   "source": [
    "from flask import Flask, render_template, request\n",
    "from wtforms import Form, TextAreaField, validators\n",
    "import pickle\n",
    "import sqlite3\n",
    "import os\n",
    "import numpy as np\n",
    "# import HashingVectorizer from local dir\n",
    "from vectorizer import vect\n",
    "app = Flask(__name__)\n",
    "######## Preparing the Classifier\n",
    "cur_dir = os.path.dirname(__file__)\n",
    "clf = pickle.load(open(os.path.join(cur_dir,\n",
    " 'pkl_objects', 'classifier.pkl'),\n",
    " 'rb'))\n",
    "db = os.path.join(cur_dir, 'reviews.sqlite')\n",
    "def classify(document):\n",
    " label = {0: 'negative', 1: 'positive'}\n",
    " X = vect.transform([document])\n",
    " y = clf.predict(X)[0]\n",
    " proba = np.max(clf.predict_proba(X))\n",
    " return label[y], proba\n",
    "def train(document, y):\n",
    " X = vect.transform([document])\n",
    " clf.partial_fit(X, [y])\n",
    "def sqlite_entry(path, document, y):\n",
    " conn = sqlite3.connect(path)\n",
    " c = conn.cursor()\n",
    " c.execute(\"INSERT INTO review_db (review, sentiment, date)\"\\\n",
    " \" VALUES (?, ?, DATETIME('now'))\", (document, y))\n",
    " conn.commit()\n",
    " conn.close()\n"
   ]
  },
  {
   "cell_type": "code",
   "execution_count": null,
   "metadata": {},
   "outputs": [],
   "source": [
    "######## Flask\n",
    "class ReviewForm(Form):\n",
    " moviereview = TextAreaField('',\n",
    " [validators.DataRequired(),\n",
    " validators.length(min=15)])\n",
    "@app.route('/')\n",
    "def index():\n",
    " form = ReviewForm(request.form)\n",
    " return render_template('reviewform.html', form=form)\n",
    "@app.route('/results', methods=['POST'])\n",
    "def results():\n",
    " form = ReviewForm(request.form)\n",
    " if request.method == 'POST' and form.validate():\n",
    " review = request.form['moviereview']\n",
    " y, proba = classify(review)\n",
    " return render_template('results.html',\n",
    " content=review,\n",
    " prediction=y,\n",
    " probability=round(proba*100, 2))\n",
    " return render_template('reviewform.html', form=form)\n",
    "@app.route('/thanks', methods=['POST'])\n",
    "def feedback():\n",
    " feedback = request.form['feedback_button']\n",
    " review = request.form['review']\n",
    " prediction = request.form['prediction']\n",
    "\n",
    " inv_label = {'negative': 0, 'positive': 1}\n",
    " y = inv_label[prediction]\n",
    " if feedback == 'Incorrect':\n",
    " y = int(not(y))\n",
    " train(review, y)\n",
    " sqlite_entry(db, review, y)\n",
    " return render_template('thanks.html')"
   ]
  },
  {
   "cell_type": "code",
   "execution_count": null,
   "metadata": {},
   "outputs": [],
   "source": [
    "<!doctype html>\n",
    "<html>\n",
    " <head>\n",
    " <title>Movie Classification</title>\n",
    " <link rel=\"stylesheet\"\n",
    " href=\"{{ url_for('static', filename='style.css') }}\">\n",
    " </head>\n",
    " <body>\n",
    "\n",
    " <h2>Please enter your movie review:</h2>\n",
    "\n",
    " {% from \"_formhelpers.html\" import render_field %}\n",
    "\n",
    " <form method=post action=\"/results\">\n",
    " <dl>\n",
    " {{ render_field(form.moviereview, cols='30', rows='10') }}\n",
    " </dl>\n",
    "[ 306 ]\n",
    "Embedding a Machine Learning Model into a Web Application\n",
    " <div>\n",
    " <input type=submit value='Submit review' name='submit_btn'>\n",
    " </div>\n",
    " </form>\n",
    "\n",
    " </body>\n",
    "</html>"
   ]
  },
  {
   "cell_type": "code",
   "execution_count": null,
   "metadata": {},
   "outputs": [],
   "source": [
    "<!doctype html>\n",
    "<html>\n",
    " <head>\n",
    " <title>Movie Classification</title>\n",
    " <link rel=\"stylesheet\"\n",
    " href=\"{{ url_for('static', filename='style.css') }}\">\n",
    " </head>\n",
    " <body>\n",
    "\n",
    " <h3>Your movie review:</h3>\n",
    "<div>{{ content }}</div>\n",
    "\n",
    " <h3>Prediction:</h3>\n",
    " <div>This movie review is <strong>{{ prediction }}</strong>\n",
    " (probability: {{ probability }}%).</div>\n",
    "\n",
    " <div id='button'>\n",
    " <form action=\"/thanks\" method=\"post\">\n",
    " <input type=submit value='Correct' name='feedback_button'>\n",
    " <input type=submit value='Incorrect' name='feedback_button'>\n",
    " <input type=hidden value='{{ prediction }}' name='prediction'>\n",
    " <input type=hidden value='{{ content }}' name='review'>\n",
    " </form>\n",
    " </div>\n",
    "\n",
    " <div id='button'>\n",
    " <form action=\"/\">\n",
    " <input type=submit value='Submit another review'>\n",
    " </form>\n",
    " </div>\n",
    "\n",
    " </body>\n",
    "</html>\n",
    "body{\n",
    " width:600px;\n",
    "}\n",
    ".button{\n",
    " padding-top: 20px;\n",
    "}"
   ]
  },
  {
   "cell_type": "code",
   "execution_count": null,
   "metadata": {},
   "outputs": [],
   "source": [
    "<!doctype html>\n",
    "<html>\n",
    " <head>\n",
    " <title>Movie Classification</title>\n",
    " <link rel=\"stylesheet\"\n",
    " href=\"{{ url_for('static', filename='style.css') }}\">\n",
    " </head>\n",
    " <body>\n",
    "\n",
    " <h3>Thank you for your feedback!</h3>\n",
    "\n",
    " <div id='button'>\n",
    " <form action=\"/\">\n",
    " <input type=submit value='Submit another review'>\n",
    " </form>\n",
    " </div>\n",
    "\n",
    " </body>\n",
    "</html>"
   ]
  },
  {
   "cell_type": "code",
   "execution_count": null,
   "metadata": {},
   "outputs": [],
   "source": [
    "import pickle\n",
    "import sqlite3\n",
    "import numpy as np\n",
    "import os\n",
    "# import HashingVectorizer from local dir\n",
    "from vectorizer import vect\n",
    "def update_model(db_path, model, batch_size=10000):\n",
    " conn = sqlite3.connect(db_path)\n",
    " c = conn.cursor()\n",
    " c.execute('SELECT * from review_db')\n",
    "\n",
    " results = c.fetchmany(batch_size)\n",
    " while results:\n",
    " data = np.array(results)\n",
    " X = data[:, 0]\n",
    " y = data[:, 1].astype(int)\n",
    "\n",
    " classes = np.array([0, 1])\n",
    " X_train = vect.transform(X)\n",
    " model.partial_fit(X_train, y, classes=classes)\n",
    " results = c.fetchmany(batch_size)\n",
    "\n",
    " conn.close()\n",
    " return model\n",
    "cur_dir = os.path.dirname(__file__)\n",
    "clf = pickle.load(open(os.path.join(cur_dir,\n",
    " 'pkl_objects',\n",
    " 'classifier.pkl'), 'rb'))\n",
    "db = os.path.join(cur_dir, 'reviews.sqlite')\n",
    "clf = update_model(db_path=db, model=clf, batch_size=10000)\n",
    "# Uncomment the following lines if you are sure that\n",
    "# you want to update your classifier.pkl file\n",
    "# permanently.\n",
    "# pickle.dump(clf, open(os.path.join(cur_dir,\n",
    "# 'pkl_objects', 'classifier.pkl'), 'wb'),\n",
    "# protocol=4)"
   ]
  },
  {
   "cell_type": "code",
   "execution_count": null,
   "metadata": {},
   "outputs": [],
   "source": [
    "# import update function from local dir\n",
    "from update import update_model\n",
    "if __name__ == '__main__':\n",
    " clf = update_model(db_path=db,\n",
    " model=clf,\n",
    " batch_size=10000)"
   ]
  },
  {
   "cell_type": "code",
   "execution_count": null,
   "metadata": {},
   "outputs": [],
   "source": [
    "pickle.dump(\n",
    " clf, open(\n",
    " os.path.join(\n",
    " cur_dir, 'pkl_objects',\n",
    " 'classifier.pkl'),\n",
    " 'wb'),\n",
    " protocol=4)\n",
    "timestr = time.strftime(\"%Y%m%d-%H%M%S\")\n",
    "orig_path = os.path.join(\n",
    " cur_dir, 'pkl_objects', 'classifier.pkl')\n",
    "backup_path = os.path.join(\n",
    " cur_dir, 'pkl_objects',\n",
    " 'classifier_%s.pkl' % timestr)\n",
    "copyfile(orig_path, backup_path)\n"
   ]
  }
 ],
 "metadata": {
  "language_info": {
   "name": "python"
  }
 },
 "nbformat": 4,
 "nbformat_minor": 2
}
